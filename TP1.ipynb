{
 "cells": [
  {
   "cell_type": "code",
   "execution_count": 63,
   "metadata": {},
   "outputs": [],
   "source": [
    "import matplotlib.pyplot as plt\n",
    "import numpy as np\n",
    "import pandas as pd\n",
    "import seaborn as sns\n",
    "from sklearn.linear_model import LinearRegression\n",
    "from sklearn.metrics import r2_score"
   ]
  },
  {
   "cell_type": "markdown",
   "metadata": {},
   "source": [
    "Para determinar a que dataset corresponde cada punto, en primer lugar obtengo los parámetros estadísticos de cada uno, y grafico."
   ]
  },
  {
   "cell_type": "markdown",
   "metadata": {},
   "source": [
    "## Data set 1\n",
    "Cargo los valores de X e Y en un dataframe, calculo el valor medio, la viaranza, el coeficiente de correlación entre X e Y, los coeficientes de la regresión lineal y R^2.\n",
    "Luego grafico los puntos X e Y y la regresión lineal."
   ]
  },
  {
   "cell_type": "code",
   "execution_count": 64,
   "metadata": {},
   "outputs": [
    {
     "data": {
      "text/plain": [
       "(     x      y\n",
       " 0   10   8.04\n",
       " 1    8   6.95\n",
       " 2   13   7.58\n",
       " 3    9   8.81\n",
       " 4   11   8.33\n",
       " 5   14   9.96\n",
       " 6    6   7.24\n",
       " 7    4   4.26\n",
       " 8   12  10.84\n",
       " 9    7   4.82\n",
       " 10   5   5.68,\n",
       " 9.0,\n",
       " 11.0,\n",
       "           x         y\n",
       " x  1.000000  0.816421\n",
       " y  0.816421  1.000000)"
      ]
     },
     "execution_count": 64,
     "metadata": {},
     "output_type": "execute_result"
    }
   ],
   "source": [
    "d1= {\"x\": [10, 8, 13, 9, 11, 14, 6, 4, 12, 7, 5], \"y\":[8.04, 6.95, 7.58, 8.81, 8.33, 9.96, 7.24, 4.26, 10.84, 4.82, 5.68]} \n",
    "df1= pd.DataFrame(data=d1)\n",
    "df1, df1.x.mean(), df1.x.var(),df1.corr()"
   ]
  },
  {
   "cell_type": "code",
   "execution_count": 65,
   "metadata": {},
   "outputs": [
    {
     "data": {
      "image/png": "[encoded data removed]",
      "text/plain": [
       "<Figure size 432x288 with 1 Axes>"
      ]
     },
     "metadata": {
      "needs_background": "light"
     },
     "output_type": "display_data"
    },
    {
     "data": {
      "text/plain": [
       "(array([[0.50009091]]), array([3.00009091]), 0.6665424595087748)"
      ]
     },
     "execution_count": 65,
     "metadata": {},
     "output_type": "execute_result"
    }
   ],
   "source": [
    "X1 = df1.iloc[:, 0].values.reshape(-1, 1) \n",
    "Y1 = df1.iloc[:, 1].values.reshape(-1, 1) \n",
    "reg = LinearRegression()\n",
    "reg.fit(X1, Y1)\n",
    "Y_pred1 = reg.predict(X1)\n",
    "plt.scatter(X1, Y1)\n",
    "plt.plot(X1, Y_pred1, color='red')\n",
    "plt.show()\n",
    "reg.coef_, reg.intercept_, r2_score(Y1, Y_pred1)"
   ]
  },
  {
   "cell_type": "markdown",
   "metadata": {},
   "source": [
    "## Data set 2\n",
    "Cargo los valores de X e Y en un dataframe, calculo el valor medio, la viaranza, el coeficiente de correlación entre X e Y, los coeficientes de la regresión lineal y R^2.\n",
    "Luego grafico los puntos X e Y y la regresión lineal."
   ]
  },
  {
   "cell_type": "code",
   "execution_count": 66,
   "metadata": {},
   "outputs": [
    {
     "data": {
      "text/plain": [
       "(     x     y\n",
       " 0   10  9.14\n",
       " 1    8  8.14\n",
       " 2   13  8.74\n",
       " 3    9  8.77\n",
       " 4   11  9.26\n",
       " 5   14  8.10\n",
       " 6    6  6.13\n",
       " 7    4  3.10\n",
       " 8   12  9.13\n",
       " 9    7  7.26\n",
       " 10   5  4.74,\n",
       " 9.0,\n",
       " 11.0,\n",
       " 7.500909090909091,\n",
       " 4.127629090909091,\n",
       "           x         y\n",
       " x  1.000000  0.816237\n",
       " y  0.816237  1.000000)"
      ]
     },
     "execution_count": 66,
     "metadata": {},
     "output_type": "execute_result"
    }
   ],
   "source": [
    "d2= {\"x\": [10, 8, 13, 9, 11, 14, 6, 4, 12, 7, 5], \n",
    "     \"y\":[9.14, 8.14, 8.74, 8.77, 9.26, 8.10, 6.13, 3.10, 9.13, 7.26, 4.74]} \n",
    "df2= pd.DataFrame(data=d2)\n",
    "df2, df2.x.mean(), df2.x.var(), df2.y.mean(), df2.y.var(),df2.corr()"
   ]
  },
  {
   "cell_type": "code",
   "execution_count": 67,
   "metadata": {},
   "outputs": [
    {
     "data": {
      "image/png": "[encoded data removed]",
      "text/plain": [
       "<Figure size 432x288 with 1 Axes>"
      ]
     },
     "metadata": {
      "needs_background": "light"
     },
     "output_type": "display_data"
    },
    {
     "data": {
      "text/plain": [
       "(array([[0.5]]), array([3.00090909]), 0.6662420117029543)"
      ]
     },
     "execution_count": 67,
     "metadata": {},
     "output_type": "execute_result"
    }
   ],
   "source": [
    "X2 = df2.iloc[:, 0].values.reshape(-1, 1)  # values converts it into a numpy array\n",
    "Y2 = df2.iloc[:, 1].values.reshape(-1, 1)  # -1 means that calculate the dimension of rows, but have 1 column\n",
    "reg2 = LinearRegression()\n",
    "reg2.fit(X2, Y2)\n",
    "Y_pred2 = reg.predict(X2)\n",
    "plt.scatter(X2, Y2)\n",
    "plt.plot(X2, Y_pred2, color='red')\n",
    "plt.show()\n",
    "reg2.coef_, reg2.intercept_, r2_score(Y2, Y_pred2)"
   ]
  },
  {
   "cell_type": "markdown",
   "metadata": {},
   "source": [
    "## Dataset 3\n",
    "Cargo los valores de X e Y en un dataframe, calculo el valor medio, la viaranza, el coeficiente de correlación entre X e Y, los coeficientes de la regresión lineal y R^2.\n",
    "Luego grafico los puntos X e Y y la regresión lineal."
   ]
  },
  {
   "cell_type": "code",
   "execution_count": 68,
   "metadata": {},
   "outputs": [
    {
     "data": {
      "text/plain": [
       "(     x      y\n",
       " 0   10   7.46\n",
       " 1    8   6.77\n",
       " 2   13  12.74\n",
       " 3    9   7.11\n",
       " 4   11   7.81\n",
       " 5   14   8.84\n",
       " 6    6   6.08\n",
       " 7    4   5.39\n",
       " 8   12   8.15\n",
       " 9    7   6.42\n",
       " 10   5   5.73,\n",
       " 9.0,\n",
       " 11.0,\n",
       " 7.500000000000001,\n",
       " 4.12262,\n",
       "           x         y\n",
       " x  1.000000  0.816287\n",
       " y  0.816287  1.000000)"
      ]
     },
     "execution_count": 68,
     "metadata": {},
     "output_type": "execute_result"
    }
   ],
   "source": [
    "d3= {\"x\": [10, 8, 13, 9, 11, 14, 6, 4, 12, 7, 5], \"y\":[7.46, 6.77, 12.74, 7.11, 7.81, 8.84, 6.08, 5.39, 8.15, 6.42, 5.73]} \n",
    "df3= pd.DataFrame(data=d3)\n",
    "df3, df3.x.mean(), df3.x.var(), df3.y.mean(), df3.y.var(),df3.corr()"
   ]
  },
  {
   "cell_type": "code",
   "execution_count": 69,
   "metadata": {},
   "outputs": [
    {
     "data": {
      "image/png": "[encoded data removed]",
      "text/plain": [
       "<Figure size 432x288 with 1 Axes>"
      ]
     },
     "metadata": {
      "needs_background": "light"
     },
     "output_type": "display_data"
    },
    {
     "data": {
      "text/plain": [
       "(array([[0.49972727]]), array([3.00245455]), 0.6663234677330083)"
      ]
     },
     "execution_count": 69,
     "metadata": {},
     "output_type": "execute_result"
    }
   ],
   "source": [
    "X3 = df3.iloc[:, 0].values.reshape(-1, 1)  # values converts it into a numpy array\n",
    "Y3 = df3.iloc[:, 1].values.reshape(-1, 1)  # -1 means that calculate the dimension of rows, but have 1 column\n",
    "reg3 = LinearRegression()\n",
    "reg3.fit(X3, Y3)\n",
    "Y_pred3 = reg.predict(X3)\n",
    "plt.scatter(X3, Y3)\n",
    "plt.plot(X3, Y_pred3, color='red')\n",
    "plt.show()\n",
    "reg3.coef_, reg3.intercept_, r2_score(Y3, Y_pred3)"
   ]
  },
  {
   "cell_type": "markdown",
   "metadata": {},
   "source": [
    "## Dataset 4"
   ]
  },
  {
   "cell_type": "code",
   "execution_count": 70,
   "metadata": {},
   "outputs": [
    {
     "data": {
      "text/plain": [
       "(       x      y\n",
       " 0    8.0   6.58\n",
       " 1    8.0   5.76\n",
       " 2    8.0   7.71\n",
       " 3    8.0   8.84\n",
       " 4    8.0   8.47\n",
       " 5    8.0   7.04\n",
       " 6    8.0   5.25\n",
       " 7   19.0  12.50\n",
       " 8    8.0   5.56\n",
       " 9    8.0   7.91\n",
       " 10   8.0   6.89,\n",
       " 9.0,\n",
       " 11.0,\n",
       " 7.50090909090909,\n",
       " 4.12324909090909,\n",
       "           x         y\n",
       " x  1.000000  0.816521\n",
       " y  0.816521  1.000000)"
      ]
     },
     "execution_count": 70,
     "metadata": {},
     "output_type": "execute_result"
    }
   ],
   "source": [
    "d4= {\"x\": [8.0, 8.0, 8.0, 8.0, 8.0, 8.0, 8.0, 19, 8.0, 8.0, 8.0], \"y\":[6.58, 5.76, 7.71, 8.84, 8.47, 7.04, 5.25, 12.50, 5.56, 7.91, 6.89]} \n",
    "df4= pd.DataFrame(data=d4)\n",
    "df4, df4.x.mean(), df4.x.var(), df4.y.mean(), df4.y.var(),df4.corr()"
   ]
  },
  {
   "cell_type": "code",
   "execution_count": 71,
   "metadata": {},
   "outputs": [
    {
     "data": {
      "image/png": "[encoded data removed]",
      "text/plain": [
       "<Figure size 432x288 with 1 Axes>"
      ]
     },
     "metadata": {
      "needs_background": "light"
     },
     "output_type": "display_data"
    },
    {
     "data": {
      "text/plain": [
       "(array([[0.49990909]]), array([3.00172727]), 0.6667071687067613)"
      ]
     },
     "execution_count": 71,
     "metadata": {},
     "output_type": "execute_result"
    }
   ],
   "source": [
    "X4 = df4.iloc[:, 0].values.reshape(-1, 1)  # values converts it into a numpy array\n",
    "Y4 = df4.iloc[:, 1].values.reshape(-1, 1)  # -1 means that calculate the dimension of rows, but have 1 column\n",
    "reg4 = LinearRegression()\n",
    "reg4.fit(X4, Y4)\n",
    "Y_pred4 = reg.predict(X4)\n",
    "plt.scatter(X4, Y4)\n",
    "plt.plot(X4, Y_pred4, color='red')\n",
    "plt.show()\n",
    "reg4.coef_, reg4.intercept_, r2_score(Y4, Y_pred4)"
   ]
  },
  {
   "cell_type": "markdown",
   "metadata": {},
   "source": [
    "En segundo lugar, se grafican los 4 dataset en una misma pantalla"
   ]
  },
  {
   "cell_type": "code",
   "execution_count": 72,
   "metadata": {},
   "outputs": [
    {
     "data": {
      "text/plain": [
       "Text(0.5, 1.0, 'DataSet 4')"
      ]
     },
     "execution_count": 72,
     "metadata": {},
     "output_type": "execute_result"
    },
    {
     "data": {
      "image/png": "[encoded data removed]",
      "text/plain": [
       "<Figure size 432x288 with 4 Axes>"
      ]
     },
     "metadata": {
      "needs_background": "light"
     },
     "output_type": "display_data"
    }
   ],
   "source": [
    "fig, axs = plt.subplots(2, 2, sharex='all')\n",
    "axs[0, 0].scatter(X1, Y1, c= \"blue\")\n",
    "axs[0, 0].set_title('DataSet 1')\n",
    "axs[0, 1].scatter(X2, Y2,c= \"red\")\n",
    "axs[0, 1].set_title('DataSet 2')\n",
    "axs[1, 0].scatter(X3, Y3, c=\"orange\")\n",
    "axs[1, 0].set_title('DataSet 3')\n",
    "axs[1, 1].scatter(X4, Y4, c=\"violet\")\n",
    "axs[1, 1].set_title('DataSet 4')"
   ]
  },
  {
   "cell_type": "markdown",
   "metadata": {},
   "source": [
    "Luego, se grafican los puntos."
   ]
  },
  {
   "cell_type": "code",
   "execution_count": 73,
   "metadata": {},
   "outputs": [
    {
     "data": {
      "text/plain": [
       "<matplotlib.legend.Legend at 0x2972391f948>"
      ]
     },
     "execution_count": 73,
     "metadata": {},
     "output_type": "execute_result"
    },
    {
     "data": {
      "image/png": "[encoded data removed]",
      "text/plain": [
       "<Figure size 432x288 with 1 Axes>"
      ]
     },
     "metadata": {
      "needs_background": "light"
     },
     "output_type": "display_data"
    }
   ],
   "source": [
    "plt.scatter(16,8, label=\"Punto A\")\n",
    "plt.scatter(16,6, label=\"Punto B\")\n",
    "plt.scatter(16,10, label=\"Punto C\")\n",
    "plt.scatter(8,6, label=\"Punto D\")\n",
    "plt.legend()"
   ]
  },
  {
   "cell_type": "markdown",
   "metadata": {},
   "source": [
    "## Resultados\n",
    "A partir de una observación visual, podemos determinar a que Dataset le vendría mejor cada punto.\n",
    "El punto D corresponde al Dataset 4, ya que es una recta vertical en X=8\n",
    "El punto A corresponde al Dataset 2, ya que es el proximo valor de la curva con pendiente  negativa.\n",
    "El Punto C corresponde al Dataset 3, ya que es el proxima valor de la recta.\n",
    "El punto B, corresponde al Dataset 1, ya sea por descarte, o porque tiene sentido en la dispersión del dataset.\n",
    "Para observar grafícamente si existe una corespondencia, se incluye cada punto en el dataset elegido y se vuelve a graficar."
   ]
  },
  {
   "cell_type": "code",
   "execution_count": 74,
   "metadata": {},
   "outputs": [
    {
     "data": {
      "text/plain": [
       "Text(0.5, 1.0, 'DataSet 4')"
      ]
     },
     "execution_count": 74,
     "metadata": {},
     "output_type": "execute_result"
    },
    {
     "data": {
      "image/png": "[encoded data removed]",
      "text/plain": [
       "<Figure size 432x288 with 4 Axes>"
      ]
     },
     "metadata": {
      "needs_background": "light"
     },
     "output_type": "display_data"
    }
   ],
   "source": [
    "dp= pd.DataFrame({\"x\":[16],\"y\":[8]})\n",
    "df1=df1.append(dp)\n",
    "dp= pd.DataFrame({\"x\":[16],\"y\":[6]})\n",
    "df2=df2.append(dp)\n",
    "dp= pd.DataFrame({\"x\":[16],\"y\":[10]})\n",
    "df3=df3.append(dp)\n",
    "dp= pd.DataFrame({\"x\":[8],\"y\":[6]})\n",
    "df4=df4.append(dp)\n",
    "X1 = df1.iloc[:, 0].values.reshape(-1, 1) \n",
    "Y1 = df1.iloc[:, 1].values.reshape(-1, 1)\n",
    "X2 = df2.iloc[:, 0].values.reshape(-1, 1) \n",
    "Y2 = df2.iloc[:, 1].values.reshape(-1, 1) \n",
    "X3 = df3.iloc[:, 0].values.reshape(-1, 1) \n",
    "Y3 = df3.iloc[:, 1].values.reshape(-1, 1) \n",
    "X4 = df4.iloc[:, 0].values.reshape(-1, 1) \n",
    "Y4 = df4.iloc[:, 1].values.reshape(-1, 1) \n",
    "fig, axs = plt.subplots(2, 2,sharex='all')\n",
    "axs[0, 0].scatter(X1, Y1, c= \"blue\")\n",
    "axs[0, 0].set_title('DataSet 1')\n",
    "axs[0, 1].scatter(X2, Y2,c= \"red\")\n",
    "axs[0, 1].set_title('DataSet 2')\n",
    "axs[1, 0].scatter(X3, Y3, c=\"orange\")\n",
    "axs[1, 0].set_title('DataSet 3')\n",
    "axs[1, 1].scatter(X4, Y4, c=\"violet\")\n",
    "axs[1, 1].set_title('DataSet 4')"
   ]
  },
  {
   "cell_type": "markdown",
   "metadata": {},
   "source": [
    "# FIN"
   ]
  }
 ],
 "metadata": {
  "kernelspec": {
   "display_name": "Python 3",
   "language": "python",
   "name": "python3"
  },
  "language_info": {
   "codemirror_mode": {
    "name": "ipython",
    "version": 3
   },
   "file_extension": ".py",
   "mimetype": "text/x-python",
   "name": "python",
   "nbconvert_exporter": "python",
   "pygments_lexer": "ipython3",
   "version": "3.7.6"
  }
 },
 "nbformat": 4,
 "nbformat_minor": 4
}
