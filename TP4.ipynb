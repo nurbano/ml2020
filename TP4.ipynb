{
  "nbformat": 4,
  "nbformat_minor": 0,
  "metadata": {
    "colab": {
      "name": "TP4.ipynb",
      "provenance": [],
      "collapsed_sections": []
    },
    "kernelspec": {
      "display_name": "Python 3",
      "language": "python",
      "name": "python3"
    },
    "language_info": {
      "codemirror_mode": {
        "name": "ipython",
        "version": 3
      },
      "file_extension": ".py",
      "mimetype": "text/x-python",
      "name": "python",
      "nbconvert_exporter": "python",
      "pygments_lexer": "ipython3",
      "version": "3.7.4"
    }
  },
  "cells": [
    {
      "cell_type": "markdown",
      "metadata": {
        "id": "tMcQE8eiHd8U"
      },
      "source": [
        "# Recognizing Traffic Signs\n",
        "The goal of this project is to build a model capable of determining the type of traffic sign that is displayed in an image captured under different real-life conditions and showing obstructions, poor lighting, or even the sign being far away from the camera. We provide you with labeled images already splited in three files (tran/val/test) and a predefined list of signs to recognise. "
      ]
    },
    {
      "cell_type": "code",
      "metadata": {
        "colab": {
          "base_uri": "https://localhost:8080/"
        },
        "id": "Hd1Vpum5Hd8X",
        "outputId": "21663c0e-cb30-4999-edfd-8e2c9e13c036"
      },
      "source": [
        "# Download and unzip\n",
        "dataroot = \"dataroot/\"\n",
        "!mkdir dataroot \n",
        "!wget -P dataroot https://raw.githubusercontent.com/emmanueliarussi/DataScienceCapstone/master/3_MidtermProjects/ProjectRTS/data/data_1.zip\n",
        "!wget -P dataroot https://raw.githubusercontent.com/emmanueliarussi/DataScienceCapstone/master/3_MidtermProjects/ProjectRTS/data/data_2.zip\n",
        "!wget -P dataroot https://raw.githubusercontent.com/emmanueliarussi/DataScienceCapstone/master/3_MidtermProjects/ProjectRTS/data/data_3.zip "
      ],
      "execution_count": 17,
      "outputs": [
        {
          "output_type": "stream",
          "text": [
            "mkdir: cannot create directory ‘dataroot’: File exists\n",
            "--2020-11-25 13:57:26--  https://raw.githubusercontent.com/emmanueliarussi/DataScienceCapstone/master/3_MidtermProjects/ProjectRTS/data/data_1.zip\n",
            "Resolving raw.githubusercontent.com (raw.githubusercontent.com)... 151.101.0.133, 151.101.64.133, 151.101.128.133, ...\n",
            "Connecting to raw.githubusercontent.com (raw.githubusercontent.com)|151.101.0.133|:443... connected.\n",
            "HTTP request sent, awaiting response... 200 OK\n",
            "Length: 32074743 (31M) [application/zip]\n",
            "Saving to: ‘dataroot/data_1.zip.1’\n",
            "\n",
            "data_1.zip.1        100%[===================>]  30.59M  73.0MB/s    in 0.4s    \n",
            "\n",
            "2020-11-25 13:57:27 (73.0 MB/s) - ‘dataroot/data_1.zip.1’ saved [32074743/32074743]\n",
            "\n",
            "--2020-11-25 13:57:27--  https://raw.githubusercontent.com/emmanueliarussi/DataScienceCapstone/master/3_MidtermProjects/ProjectRTS/data/data_2.zip\n",
            "Resolving raw.githubusercontent.com (raw.githubusercontent.com)... 151.101.0.133, 151.101.64.133, 151.101.128.133, ...\n",
            "Connecting to raw.githubusercontent.com (raw.githubusercontent.com)|151.101.0.133|:443... connected.\n",
            "HTTP request sent, awaiting response... 200 OK\n",
            "Length: 81170396 (77M) [application/zip]\n",
            "Saving to: ‘dataroot/data_2.zip.1’\n",
            "\n",
            "data_2.zip.1        100%[===================>]  77.41M  99.1MB/s    in 0.8s    \n",
            "\n",
            "2020-11-25 13:57:28 (99.1 MB/s) - ‘dataroot/data_2.zip.1’ saved [81170396/81170396]\n",
            "\n",
            "--2020-11-25 13:57:28--  https://raw.githubusercontent.com/emmanueliarussi/DataScienceCapstone/master/3_MidtermProjects/ProjectRTS/data/data_3.zip\n",
            "Resolving raw.githubusercontent.com (raw.githubusercontent.com)... 151.101.0.133, 151.101.64.133, 151.101.128.133, ...\n",
            "Connecting to raw.githubusercontent.com (raw.githubusercontent.com)|151.101.0.133|:443... connected.\n",
            "HTTP request sent, awaiting response... 200 OK\n",
            "Length: 10280567 (9.8M) [application/zip]\n",
            "Saving to: ‘dataroot/data_3.zip.1’\n",
            "\n",
            "data_3.zip.1        100%[===================>]   9.80M  28.6MB/s    in 0.3s    \n",
            "\n",
            "2020-11-25 13:57:29 (28.6 MB/s) - ‘dataroot/data_3.zip.1’ saved [10280567/10280567]\n",
            "\n"
          ],
          "name": "stdout"
        }
      ]
    },
    {
      "cell_type": "code",
      "metadata": {
        "id": "H9RktOM-Hd8i"
      },
      "source": [
        "# Unzip\n",
        "import zipfile\n",
        "with zipfile.ZipFile(dataroot+\"data_1.zip\",\"r\") as zip_ref:\n",
        "    zip_ref.extractall(dataroot)\n",
        "with zipfile.ZipFile(dataroot+\"data_2.zip\",\"r\") as zip_ref:\n",
        "    zip_ref.extractall(dataroot)\n",
        "with zipfile.ZipFile(dataroot+\"data_3.zip\",\"r\") as zip_ref:\n",
        "    zip_ref.extractall(dataroot)"
      ],
      "execution_count": 18,
      "outputs": []
    },
    {
      "cell_type": "code",
      "metadata": {
        "colab": {
          "base_uri": "https://localhost:8080/"
        },
        "id": "n9ZyKxP3Hd8m",
        "outputId": "f70340f3-859b-49e1-cba7-e0f297fa2aa0"
      },
      "source": [
        "# Load sign names\n",
        "import pandas as pd\n",
        "df = pd.read_csv(\"https://raw.githubusercontent.com/emmanueliarussi/DataScienceCapstone/master/3_MidtermProjects/ProjectRTS/data/signnames.csv\")\n",
        "signnames = pd.Series(df.SignName.values,index=df.ClassId).to_dict()\n",
        "signnames"
      ],
      "execution_count": 19,
      "outputs": [
        {
          "output_type": "execute_result",
          "data": {
            "text/plain": [
              "{0: 'Speed limit (20km/h)',\n",
              " 1: 'Speed limit (30km/h)',\n",
              " 2: 'Speed limit (50km/h)',\n",
              " 3: 'Speed limit (60km/h)',\n",
              " 4: 'Speed limit (70km/h)',\n",
              " 5: 'Speed limit (80km/h)',\n",
              " 6: 'End of speed limit (80km/h)',\n",
              " 7: 'Speed limit (100km/h)',\n",
              " 8: 'Speed limit (120km/h)',\n",
              " 9: 'No passing',\n",
              " 10: 'No passing for vehicles over 3.5 metric tons',\n",
              " 11: 'Right-of-way at the next intersection',\n",
              " 12: 'Priority road',\n",
              " 13: 'Yield',\n",
              " 14: 'Stop',\n",
              " 15: 'No vehicles',\n",
              " 16: 'Vehicles over 3.5 metric tons prohibited',\n",
              " 17: 'No entry',\n",
              " 18: 'General caution',\n",
              " 19: 'Dangerous curve to the left',\n",
              " 20: 'Dangerous curve to the right',\n",
              " 21: 'Double curve',\n",
              " 22: 'Bumpy road',\n",
              " 23: 'Slippery road',\n",
              " 24: 'Road narrows on the right',\n",
              " 25: 'Road work',\n",
              " 26: 'Traffic signals',\n",
              " 27: 'Pedestrians',\n",
              " 28: 'Children crossing',\n",
              " 29: 'Bicycles crossing',\n",
              " 30: 'Beware of ice/snow',\n",
              " 31: 'Wild animals crossing',\n",
              " 32: 'End of all speed and passing limits',\n",
              " 33: 'Turn right ahead',\n",
              " 34: 'Turn left ahead',\n",
              " 35: 'Ahead only',\n",
              " 36: 'Go straight or right',\n",
              " 37: 'Go straight or left',\n",
              " 38: 'Keep right',\n",
              " 39: 'Keep left',\n",
              " 40: 'Roundabout mandatory',\n",
              " 41: 'End of no passing',\n",
              " 42: 'End of no passing by vehicles over 3.5 metric tons'}"
            ]
          },
          "metadata": {
            "tags": []
          },
          "execution_count": 19
        }
      ]
    },
    {
      "cell_type": "code",
      "metadata": {
        "id": "gOCB3k3GHd8r"
      },
      "source": [
        "# Load images\n",
        "import pickle\n",
        "signimages = pickle.load( open( dataroot+\"train.p\", \"rb\" ) )"
      ],
      "execution_count": 20,
      "outputs": []
    },
    {
      "cell_type": "code",
      "metadata": {
        "colab": {
          "base_uri": "https://localhost:8080/",
          "height": 285
        },
        "id": "1PpEDUIhHd8u",
        "outputId": "7c9ee7cf-e2d1-41b8-d166-c496b7bbf00b"
      },
      "source": [
        "# Preview image\n",
        "import matplotlib.pyplot as plt\n",
        "import numpy as np\n",
        "import cv2\n",
        "\n",
        "inx = 20123\n",
        "plt.imshow(signimages['features'][inx])\n",
        "print(\"The image shows a {} sign\".format(signnames[signimages['labels'][inx]]))"
      ],
      "execution_count": 21,
      "outputs": [
        {
          "output_type": "stream",
          "text": [
            "The image shows a Turn left ahead sign\n"
          ],
          "name": "stdout"
        },
        {
          "output_type": "display_data",
          "data": {
            "image/png": "[encoded data removed]",
            "text/plain": [
              "<Figure size 432x288 with 1 Axes>"
            ]
          },
          "metadata": {
            "tags": [],
            "needs_background": "light"
          }
        }
      ]
    },
    {
      "cell_type": "code",
      "metadata": {
        "colab": {
          "base_uri": "https://localhost:8080/"
        },
        "id": "hVcCm7nmIKFZ",
        "outputId": "e4b5db1a-8dcd-419a-9def-be4d8a84ac29"
      },
      "source": [
        "signimages['sizes'][inx+1]"
      ],
      "execution_count": 22,
      "outputs": [
        {
          "output_type": "execute_result",
          "data": {
            "text/plain": [
              "array([38, 41], dtype=uint8)"
            ]
          },
          "metadata": {
            "tags": []
          },
          "execution_count": 22
        }
      ]
    },
    {
      "cell_type": "code",
      "metadata": {
        "colab": {
          "base_uri": "https://localhost:8080/"
        },
        "id": "RlZm8YXGLKY_",
        "outputId": "2d4fbf76-9a78-4bc6-e681-9ff64341a664"
      },
      "source": [
        "\n",
        "signimages.keys()"
      ],
      "execution_count": 23,
      "outputs": [
        {
          "output_type": "execute_result",
          "data": {
            "text/plain": [
              "dict_keys(['coords', 'labels', 'features', 'sizes'])"
            ]
          },
          "metadata": {
            "tags": []
          },
          "execution_count": 23
        }
      ]
    },
    {
      "cell_type": "code",
      "metadata": {
        "colab": {
          "base_uri": "https://localhost:8080/"
        },
        "id": "R2kdSlbgNXh1",
        "outputId": "512d8c6e-ef54-4e80-d21a-890e653f3a2b"
      },
      "source": [
        "signimages['coords'][inx+1]"
      ],
      "execution_count": 24,
      "outputs": [
        {
          "output_type": "execute_result",
          "data": {
            "text/plain": [
              "array([ 6,  6, 33, 36], dtype=uint8)"
            ]
          },
          "metadata": {
            "tags": []
          },
          "execution_count": 24
        }
      ]
    },
    {
      "cell_type": "code",
      "metadata": {
        "colab": {
          "base_uri": "https://localhost:8080/",
          "height": 285
        },
        "id": "Dz2yAFV4Or3z",
        "outputId": "a1531611-c74f-48e1-9684-1117c8595c06"
      },
      "source": [
        "plt.imshow(signimages['features'][inx+1])"
      ],
      "execution_count": 25,
      "outputs": [
        {
          "output_type": "execute_result",
          "data": {
            "text/plain": [
              "<matplotlib.image.AxesImage at 0x7f786cd9afd0>"
            ]
          },
          "metadata": {
            "tags": []
          },
          "execution_count": 25
        },
        {
          "output_type": "display_data",
          "data": {
            "image/png": "[encoded data removed]",
            "text/plain": [
              "<Figure size 432x288 with 1 Axes>"
            ]
          },
          "metadata": {
            "tags": [],
            "needs_background": "light"
          }
        }
      ]
    },
    {
      "cell_type": "markdown",
      "metadata": {
        "id": "z63PvGSqkOk1"
      },
      "source": [
        "## HOG\n",
        "Voy a utilizar el histograma de gradientes orientados para obtener las características de las imagenes guardadas en 'features'."
      ]
    },
    {
      "cell_type": "code",
      "metadata": {
        "colab": {
          "base_uri": "https://localhost:8080/",
          "height": 351
        },
        "id": "kc9HmKVx-g2L",
        "outputId": "0342b481-582a-4c67-dd42-0e08755a830f"
      },
      "source": [
        "\n",
        "from skimage.feature import hog\n",
        "from skimage import data, exposure\n",
        "\n",
        "\n",
        "image = signimages['features'][23000]\n",
        "\n",
        "fd, hog_image = hog(image, orientations=8, pixels_per_cell=(4,4),\n",
        "                    cells_per_block=(2,2), visualize=True, block_norm= 'L2')\n",
        "\n",
        "fig, (ax1, ax2) = plt.subplots(1, 2, figsize=(12, 8), sharex=True, sharey=True)\n",
        "\n",
        "ax1.axis('off')\n",
        "ax1.imshow(image, cmap=plt.cm.gray)\n",
        "ax1.set_title('Input image')\n",
        "\n",
        "# Rescale histogram for better display\n",
        "hog_image_rescaled = exposure.rescale_intensity(hog_image, in_range=(0, 10))\n",
        "\n",
        "ax2.axis('off')\n",
        "ax2.imshow(hog_image_rescaled)\n",
        "ax2.set_title('Histogram of Oriented Gradients')\n",
        "plt.show()"
      ],
      "execution_count": 26,
      "outputs": [
        {
          "output_type": "display_data",
          "data": {
            "image/png": "[encoded data removed]",
            "text/plain": [
              "<Figure size 864x576 with 2 Axes>"
            ]
          },
          "metadata": {
            "tags": [],
            "needs_background": "light"
          }
        }
      ]
    },
    {
      "cell_type": "markdown",
      "metadata": {
        "id": "LecBc2u8GAgy"
      },
      "source": [
        "## HOG + SVM\n",
        "En primer lugar aplico HOG a todas las imágenes del train, luego entreno un clasificador SVM."
      ]
    },
    {
      "cell_type": "code",
      "metadata": {
        "id": "tX_iQpHdf5GQ",
        "colab": {
          "base_uri": "https://localhost:8080/"
        },
        "outputId": "9192b889-c472-433f-e15e-0fa0a6de5856"
      },
      "source": [
        "signimages = pickle.load( open( dataroot+\"train.p\", \"rb\" ) )\n",
        "data_train= signimages['features']\n",
        "target_train= signimages['labels']\n",
        "\n",
        "rows= data_train.shape[0]\n",
        "data_hog= np.zeros((rows,32,32))\n",
        "data_hog_flat= np.zeros((rows,32*32))\n",
        "\n",
        "\n",
        "for i in range(rows):\n",
        "  image= data_train[i]\n",
        "  fd, data_hog[i] = hog(image, orientations=8, pixels_per_cell=(4,4),\n",
        "                    cells_per_block=(2, 2), visualize=True,  block_norm= 'L2')\n",
        "  data_hog_flat[i]= data_hog[i].flatten()  \n",
        "\n",
        "data_hog_flat.shape"
      ],
      "execution_count": 27,
      "outputs": [
        {
          "output_type": "execute_result",
          "data": {
            "text/plain": [
              "(34799, 1024)"
            ]
          },
          "metadata": {
            "tags": []
          },
          "execution_count": 27
        }
      ]
    },
    {
      "cell_type": "code",
      "metadata": {
        "id": "oSCdsPAql-s4"
      },
      "source": [
        "y_train = np.array(target_train)\n",
        "X_train = data_hog_flat"
      ],
      "execution_count": 28,
      "outputs": []
    },
    {
      "cell_type": "markdown",
      "metadata": {
        "id": "P5WynC7ap-Gt"
      },
      "source": [
        "## Clasificación"
      ]
    },
    {
      "cell_type": "code",
      "metadata": {
        "colab": {
          "base_uri": "https://localhost:8080/"
        },
        "id": "FbsWu6mTmLwz",
        "outputId": "dc807d2a-d914-4ab0-9c75-fbcb64b311a3"
      },
      "source": [
        "from sklearn import svm\n",
        "#Create a svm Classifier\n",
        "clf = svm.SVC(kernel='linear') # Linear Kernel\n",
        "#Train the model using the training sets\n",
        "clf.fit(X_train, y_train)\n"
      ],
      "execution_count": 29,
      "outputs": [
        {
          "output_type": "execute_result",
          "data": {
            "text/plain": [
              "SVC(C=1.0, break_ties=False, cache_size=200, class_weight=None, coef0=0.0,\n",
              "    decision_function_shape='ovr', degree=3, gamma='scale', kernel='linear',\n",
              "    max_iter=-1, probability=False, random_state=None, shrinking=True,\n",
              "    tol=0.001, verbose=False)"
            ]
          },
          "metadata": {
            "tags": []
          },
          "execution_count": 29
        }
      ]
    },
    {
      "cell_type": "markdown",
      "metadata": {
        "id": "ARqHK_GpqB8y"
      },
      "source": [
        "## Testeo"
      ]
    },
    {
      "cell_type": "code",
      "metadata": {
        "id": "1ewMrwl5Z4yQ"
      },
      "source": [
        "signimages_test = pickle.load( open( dataroot+\"test.p\", \"rb\" ) )\n",
        "data_test= np.array(signimages_test['features'])"
      ],
      "execution_count": 30,
      "outputs": []
    },
    {
      "cell_type": "code",
      "metadata": {
        "id": "QMNNKq_Hmtov"
      },
      "source": [
        "data_test= signimages_test['features']\n",
        "target_test= signimages_test['labels']\n",
        "rows= data_test.shape[0]\n",
        "# rows= 1000\n",
        "data_hog_test= np.zeros((rows,32,32))\n",
        "data_hog_flat_test= np.zeros((rows,32*32))\n",
        "\n",
        "for i in range(rows):\n",
        "  image= data_test[i]\n",
        "  fd, data_hog_test[i] = hog(image, orientations=8, pixels_per_cell=(4,4),\n",
        "                    cells_per_block=(2, 2), visualize=True,  block_norm= 'L2')\n",
        "  data_hog_flat_test[i]= data_hog_test[i].flatten() \n"
      ],
      "execution_count": 31,
      "outputs": []
    },
    {
      "cell_type": "code",
      "metadata": {
        "id": "P96vXwdbokGX"
      },
      "source": [
        "y_test = np.array(target_test)\n",
        "X_test = data_hog_flat_test"
      ],
      "execution_count": 32,
      "outputs": []
    },
    {
      "cell_type": "code",
      "metadata": {
        "colab": {
          "base_uri": "https://localhost:8080/"
        },
        "id": "ItZCKxzvo9_I",
        "outputId": "f5c2b80e-b645-4b1b-a555-eb38a557c1a6"
      },
      "source": [
        "from sklearn import metrics\n",
        "y_pred= clf.predict(X_test)\n",
        "print(\"Accuracy:\",metrics.accuracy_score(y_test, y_pred))"
      ],
      "execution_count": 33,
      "outputs": [
        {
          "output_type": "stream",
          "text": [
            "Accuracy: 0.7241488519398258\n"
          ],
          "name": "stdout"
        }
      ]
    },
    {
      "cell_type": "code",
      "metadata": {
        "id": "pbEUerMqogAl",
        "colab": {
          "base_uri": "https://localhost:8080/",
          "height": 281
        },
        "outputId": "64fec00c-abab-4d46-9ed8-bddbdcd36ed3"
      },
      "source": [
        "from sklearn.metrics import plot_confusion_matrix\n",
        "plot_confusion_matrix(clf, X_test, y_test, include_values= False)  # doctest: +SKIP\n",
        "plt.show()  # doctest: +SKIP"
      ],
      "execution_count": 34,
      "outputs": [
        {
          "output_type": "display_data",
          "data": {
            "image/png": "[encoded data removed]",
            "text/plain": [
              "<Figure size 432x288 with 2 Axes>"
            ]
          },
          "metadata": {
            "tags": [],
            "needs_background": "light"
          }
        }
      ]
    }
  ]
}